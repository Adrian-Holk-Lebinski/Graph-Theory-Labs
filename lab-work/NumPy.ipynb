{
 "cells": [
  {
   "cell_type": "markdown",
   "id": "dd1c0622",
   "metadata": {},
   "source": [
    "# NumPy\n",
    "***\n",
    "## Basics\n",
    "***"
   ]
  },
  {
   "cell_type": "code",
   "execution_count": 1,
   "id": "71e45274",
   "metadata": {},
   "outputs": [],
   "source": [
    "import numpy as np"
   ]
  },
  {
   "cell_type": "code",
   "execution_count": 2,
   "id": "43f6414a",
   "metadata": {},
   "outputs": [
    {
     "name": "stdout",
     "output_type": "stream",
     "text": [
      "[1 2 3 4]\n"
     ]
    }
   ],
   "source": [
    "#generating basic array in numpy\n",
    "a = np.array([1, 2, 3, 4])\n",
    "print(a)"
   ]
  },
  {
   "cell_type": "code",
   "execution_count": 9,
   "id": "ace604f3",
   "metadata": {},
   "outputs": [
    {
     "name": "stdout",
     "output_type": "stream",
     "text": [
      "[0. 0. 0. 0. 0.]\n"
     ]
    }
   ],
   "source": [
    "#generating an array of 0s\n",
    "a = np.zeros(5)\n",
    "print(a)"
   ]
  },
  {
   "cell_type": "code",
   "execution_count": 4,
   "id": "f00d1f90",
   "metadata": {},
   "outputs": [
    {
     "name": "stdout",
     "output_type": "stream",
     "text": [
      "[2.12199579e-314 0.00000000e+000 1.75887370e-321 6.95293141e-310]\n"
     ]
    }
   ],
   "source": [
    "#generating an empty array (generates random numbers based on memory state to increase efficiency)\n",
    "a = np.empty(4)\n",
    "print(a)"
   ]
  },
  {
   "cell_type": "code",
   "execution_count": 5,
   "id": "9a77b540",
   "metadata": {},
   "outputs": [
    {
     "name": "stdout",
     "output_type": "stream",
     "text": [
      "[0 1 2 3 4]\n",
      "[2 4 6 8]\n"
     ]
    }
   ],
   "source": [
    "#generating ordered list of numbers\n",
    "a = np.arange(5)\n",
    "print(a)\n",
    "\n",
    "#arranging numbers 2 - 9 (not including 9) but only every second number\n",
    "a = np.arange(2, 9, 2)\n",
    "print(a)"
   ]
  },
  {
   "cell_type": "code",
   "execution_count": 6,
   "id": "b8d5de4d",
   "metadata": {},
   "outputs": [
    {
     "name": "stdout",
     "output_type": "stream",
     "text": [
      "[ 0.  5. 10.]\n"
     ]
    }
   ],
   "source": [
    "#generating list of numbers from 0 to 10 in intervals of 3\n",
    "a = np.linspace(0, 10, num=3)\n",
    "print(a)"
   ]
  },
  {
   "cell_type": "code",
   "execution_count": 11,
   "id": "0ccfa667",
   "metadata": {},
   "outputs": [
    {
     "name": "stdout",
     "output_type": "stream",
     "text": [
      "[1. 1.]\n",
      "[1 1]\n"
     ]
    }
   ],
   "source": [
    "#generate array of ones but specify the data type to int since the default is float\n",
    "a = np.ones(2)\n",
    "print(a)\n",
    "a = np.ones(2, dtype=np.int64)\n",
    "print(a)"
   ]
  },
  {
   "cell_type": "markdown",
   "id": "93b7f7b7",
   "metadata": {},
   "source": [
    "  ## Adding, removing, and sorting elements\n",
    "  ***"
   ]
  },
  {
   "cell_type": "code",
   "execution_count": 12,
   "id": "72045eb1",
   "metadata": {},
   "outputs": [],
   "source": [
    "myArray = np.array([2, 6, 7, 4, 1, 0, 25, 6, 12])"
   ]
  },
  {
   "cell_type": "code",
   "execution_count": 45,
   "id": "9bd5922a",
   "metadata": {},
   "outputs": [
    {
     "data": {
      "text/plain": [
       "array([ 0,  1,  2,  4,  6,  6,  7, 12, 25])"
      ]
     },
     "execution_count": 45,
     "metadata": {},
     "output_type": "execute_result"
    }
   ],
   "source": [
    "#sort in ascending order\n",
    "np.sort(myArray)"
   ]
  },
  {
   "cell_type": "code",
   "execution_count": 47,
   "id": "0f355b22",
   "metadata": {},
   "outputs": [
    {
     "data": {
      "text/plain": [
       "array([25, 12,  7,  6,  6,  4,  2,  1,  0])"
      ]
     },
     "execution_count": 47,
     "metadata": {},
     "output_type": "execute_result"
    }
   ],
   "source": [
    "#sort in descending order\n",
    "np.sort(myArray)[::-1]"
   ]
  },
  {
   "cell_type": "code",
   "execution_count": 56,
   "id": "f34f89cc",
   "metadata": {},
   "outputs": [
    {
     "name": "stdout",
     "output_type": "stream",
     "text": [
      "[1 2 3 4 5 6 7 8]\n",
      "[ 5  6  7 12]\n"
     ]
    }
   ],
   "source": [
    "a = np.array([1, 2, 3 ,4])\n",
    "b = np.array([5, 6, 7, 8])\n",
    "\n",
    "#Adding two arrays together\n",
    "c = np.concatenate((a, b))\n",
    "print(c)\n"
   ]
  }
 ],
 "metadata": {
  "kernelspec": {
   "display_name": "Python 3 (ipykernel)",
   "language": "python",
   "name": "python3"
  },
  "language_info": {
   "codemirror_mode": {
    "name": "ipython",
    "version": 3
   },
   "file_extension": ".py",
   "mimetype": "text/x-python",
   "name": "python",
   "nbconvert_exporter": "python",
   "pygments_lexer": "ipython3",
   "version": "3.9.16"
  }
 },
 "nbformat": 4,
 "nbformat_minor": 5
}
